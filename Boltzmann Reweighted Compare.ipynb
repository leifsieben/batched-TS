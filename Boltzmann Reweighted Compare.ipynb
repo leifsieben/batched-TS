{
 "cells": [
  {
   "cell_type": "markdown",
   "id": "09bd0329-5311-4a8f-9368-c637d3ea10b7",
   "metadata": {},
   "source": [
    "A subsequent paper suggested some modifications to the selection procedure.\n",
    "\n",
    "Zhao, H., Nittinger, E. & Tyrchan, C. Enhanced Thompson Sampling by Roulette Wheel Selection for Screening Ultra-Large Combinatorial Libraries. bioRxiv 2024.05.16.594622 (2024) doi:10.1101/2024.05.16.594622\n",
    "\n",
    "We implemented one of the ideas, specifically reweighting the samples in a Boltzmann style fashion and selecting from that distribution rather than the max sampled value as a traditional TS does.\n",
    "\n",
    "This notebook explores the effect of that change on the quinazoline similarity search test case."
   ]
  },
  {
   "cell_type": "code",
   "execution_count": 1,
   "id": "692a7187-beb2-4c39-a418-88bc70f5ccae",
   "metadata": {},
   "outputs": [],
   "source": [
    "%load_ext autoreload\n",
    "%autoreload 2"
   ]
  },
  {
   "cell_type": "code",
   "execution_count": 2,
   "id": "9236f7dc-bb26-412d-87e9-bba01006326d",
   "metadata": {},
   "outputs": [
    {
     "name": "stderr",
     "output_type": "stream",
     "text": [
      "/Users/priley/coding/TS/evaluators.py:15: UserWarning: Openeye packages not available in this environment; do not attempt to use ROCSEvaluator or FredEvaluator\n",
      "  warnings.warn(f\"Openeye packages not available in this environment; do not attempt to use ROCSEvaluator or \"\n"
     ]
    }
   ],
   "source": [
    "import copy\n",
    "import json\n",
    "from ts_main import run_ts, parse_input_dict\n",
    "from baseline import enumerate_library\n",
    "import pandas as pd\n",
    "from rdkit import Chem\n",
    "from tqdm.auto import tqdm\n",
    "import numpy as np\n",
    "from evaluators import FPEvaluator\n",
    "import seaborn as sns\n",
    "from scipy import stats\n",
    "import matplotlib.pyplot as plt"
   ]
  },
  {
   "cell_type": "code",
   "execution_count": 3,
   "id": "2e376892-92f9-4fec-aa59-20459b16988c",
   "metadata": {},
   "outputs": [],
   "source": [
    "tqdm.pandas()"
   ]
  },
  {
   "cell_type": "code",
   "execution_count": 4,
   "id": "0e6b3349-56c7-4f63-bd28-0b9fd3fa6514",
   "metadata": {},
   "outputs": [],
   "source": [
    "# Suppress RDKit warnings\n",
    "from rdkit import RDLogger \n",
    "RDLogger.DisableLog('rdApp.*')  "
   ]
  },
  {
   "cell_type": "code",
   "execution_count": 5,
   "id": "c2f5f543-08dc-4f66-a6dd-c42d16ce0c40",
   "metadata": {},
   "outputs": [],
   "source": [
    "TS_BASE_DIR = \".\""
   ]
  },
  {
   "cell_type": "code",
   "execution_count": 6,
   "id": "e82041b7-0057-40e4-bb33-db0aedd5b29e",
   "metadata": {},
   "outputs": [],
   "source": [
    "quinazoline_json = \"\"\"{\n",
    "\"reagent_file_list\": [\n",
    "        \"TS_BASE_DIR/data/aminobenzoic_100.smi\",\n",
    "        \"TS_BASE_DIR/data/primary_amines_100.smi\",\n",
    "        \"TS_BASE_DIR/data/carboxylic_acids_100.smi\"\n",
    "    ],\n",
    "    \"reaction_smarts\": \"N[c:4][c:3]C(O)=O.[#6:1][NH2].[#6:2]C(=O)[OH]>>[C:2]c1n[c:4][c:3]c(=O)n1[C:1]\",\n",
    "    \"num_warmup_trials\": 10,\n",
    "    \"num_ts_iterations\": 5000,\n",
    "    \"evaluator_class_name\": \"FPEvaluator\",\n",
    "    \"evaluator_arg\": {\"query_smiles\" : \"COc1cccc2c(=O)n([C@@H]3C[C@@H](O)[C@@H](O)C3)c([C@@H](N)CNC(N)=O)nc12\"},\n",
    "    \"ts_mode\": \"maximize\",\n",
    "    \"log_filename\": \"ts_logs.txt\",\n",
    "    \"results_filename\": \"ts_results.csv\"\n",
    "}\"\"\".replace(\"TS_BASE_DIR\", TS_BASE_DIR)\n",
    "quinazoline_dict = json.loads(quinazoline_json)"
   ]
  },
  {
   "cell_type": "markdown",
   "id": "34e9d970-51f1-4d84-a294-e35bd1785a28",
   "metadata": {},
   "source": [
    "## Do the full enumeration and evaluation"
   ]
  },
  {
   "cell_type": "code",
   "execution_count": 10,
   "id": "1c8d91e8-a874-42b4-ad53-8bce3a2ae260",
   "metadata": {},
   "outputs": [],
   "source": [
    "with open(\"enumerate.json\", \"w\") as f:\n",
    "    json.dump(quinazoline_dict, f)"
   ]
  },
  {
   "cell_type": "code",
   "execution_count": 19,
   "id": "3cbd6f4c-fe10-493f-be21-c0f600ee428d",
   "metadata": {},
   "outputs": [
    {
     "name": "stdout",
     "output_type": "stream",
     "text": [
      "9.70e+05 products\n"
     ]
    },
    {
     "data": {
      "application/vnd.jupyter.widget-view+json": {
       "model_id": "4e5b2242be144ff88fde528794acb1eb",
       "version_major": 2,
       "version_minor": 0
      },
      "text/plain": [
       "  0%|          | 0/970299 [00:00<?, ?it/s]"
      ]
     },
     "metadata": {},
     "output_type": "display_data"
    }
   ],
   "source": [
    "enumerate_library(\"enumerate.json\",\"quinazoline_100_enum.csv\",-1)"
   ]
  },
  {
   "cell_type": "code",
   "execution_count": 21,
   "id": "172fc797-e310-4f87-9dca-211da608497d",
   "metadata": {},
   "outputs": [],
   "source": [
    "query_smiles = quinazoline_dict['evaluator_arg']['query_smiles']"
   ]
  },
  {
   "cell_type": "code",
   "execution_count": 22,
   "id": "d25325e6-4eb0-4068-9cae-e9bcf2c973b1",
   "metadata": {},
   "outputs": [],
   "source": [
    "enum_df = pd.read_csv(\"quinazoline_100_enum.csv\")"
   ]
  },
  {
   "cell_type": "code",
   "execution_count": 23,
   "id": "4823e662-351c-4ca4-b4c7-347ae79a0220",
   "metadata": {},
   "outputs": [],
   "source": [
    "fp_eval = FPEvaluator({\"query_smiles\": query_smiles})\n",
    "class SmilesEvaluator:\n",
    "    def __init__(self, eval):\n",
    "        self.eval = eval\n",
    "        \n",
    "    def eval_smiles(self,smiles):\n",
    "        mol = Chem.MolFromSmiles(smiles)\n",
    "        return self.eval.evaluate(mol)\n",
    "smiles_eval = SmilesEvaluator(fp_eval)"
   ]
  },
  {
   "cell_type": "code",
   "execution_count": 24,
   "id": "ecdb9802-241d-4791-b790-7fe615d27ae2",
   "metadata": {},
   "outputs": [
    {
     "data": {
      "application/vnd.jupyter.widget-view+json": {
       "model_id": "eebb02958c394ad3af61ef7e735a8241",
       "version_major": 2,
       "version_minor": 0
      },
      "text/plain": [
       "  0%|          | 0/970299 [00:00<?, ?it/s]"
      ]
     },
     "metadata": {},
     "output_type": "display_data"
    }
   ],
   "source": [
    "enum_df['truth'] = enum_df.SMILES.progress_apply(smiles_eval.eval_smiles)"
   ]
  },
  {
   "cell_type": "code",
   "execution_count": 25,
   "id": "d1161f51-9816-4a4e-84e3-753fa051a05d",
   "metadata": {},
   "outputs": [
    {
     "data": {
      "text/html": [
       "<div>\n",
       "<style scoped>\n",
       "    .dataframe tbody tr th:only-of-type {\n",
       "        vertical-align: middle;\n",
       "    }\n",
       "\n",
       "    .dataframe tbody tr th {\n",
       "        vertical-align: top;\n",
       "    }\n",
       "\n",
       "    .dataframe thead th {\n",
       "        text-align: right;\n",
       "    }\n",
       "</style>\n",
       "<table border=\"1\" class=\"dataframe\">\n",
       "  <thead>\n",
       "    <tr style=\"text-align: right;\">\n",
       "      <th></th>\n",
       "      <th>SMILES</th>\n",
       "      <th>Name</th>\n",
       "      <th>truth</th>\n",
       "    </tr>\n",
       "  </thead>\n",
       "  <tbody>\n",
       "    <tr>\n",
       "      <th>456890</th>\n",
       "      <td>COCc1ncc2c(=O)n([C@H]3CO[C@H]4[C@@H]3OC[C@@H]4...</td>\n",
       "      <td>95883519_104600679_895342</td>\n",
       "      <td>0.302326</td>\n",
       "    </tr>\n",
       "    <tr>\n",
       "      <th>554872</th>\n",
       "      <td>O=C(O)c1ccc2c(=O)n([C@H]3CN[C@H](C(=O)O)C3)c(C...</td>\n",
       "      <td>389863_95831405_19735199</td>\n",
       "      <td>0.208791</td>\n",
       "    </tr>\n",
       "    <tr>\n",
       "      <th>660649</th>\n",
       "      <td>C[C@@H](OC(=O)CO)c1nc2c(cnn2C(C)(C)C)c(=O)n1C[...</td>\n",
       "      <td>137316859_1225225_59569926</td>\n",
       "      <td>0.164948</td>\n",
       "    </tr>\n",
       "    <tr>\n",
       "      <th>13654</th>\n",
       "      <td>Cn1c(=O)c2c(=O)n(C(=O)[C@@H]3CNC(=O)C3)c(CNC(=...</td>\n",
       "      <td>26895819_4301264_895314</td>\n",
       "      <td>0.202247</td>\n",
       "    </tr>\n",
       "    <tr>\n",
       "      <th>51924</th>\n",
       "      <td>NC(=O)N[C@@H](CO)c1nc2nc(N)c(Cl)nc2c(=O)n1C(=O...</td>\n",
       "      <td>21298040_8672865_2626461</td>\n",
       "      <td>0.191489</td>\n",
       "    </tr>\n",
       "  </tbody>\n",
       "</table>\n",
       "</div>"
      ],
      "text/plain": [
       "                                                   SMILES  \\\n",
       "456890  COCc1ncc2c(=O)n([C@H]3CO[C@H]4[C@@H]3OC[C@@H]4...   \n",
       "554872  O=C(O)c1ccc2c(=O)n([C@H]3CN[C@H](C(=O)O)C3)c(C...   \n",
       "660649  C[C@@H](OC(=O)CO)c1nc2c(cnn2C(C)(C)C)c(=O)n1C[...   \n",
       "13654   Cn1c(=O)c2c(=O)n(C(=O)[C@@H]3CNC(=O)C3)c(CNC(=...   \n",
       "51924   NC(=O)N[C@@H](CO)c1nc2nc(N)c(Cl)nc2c(=O)n1C(=O...   \n",
       "\n",
       "                              Name     truth  \n",
       "456890   95883519_104600679_895342  0.302326  \n",
       "554872    389863_95831405_19735199  0.208791  \n",
       "660649  137316859_1225225_59569926  0.164948  \n",
       "13654      26895819_4301264_895314  0.202247  \n",
       "51924     21298040_8672865_2626461  0.191489  "
      ]
     },
     "execution_count": 25,
     "metadata": {},
     "output_type": "execute_result"
    }
   ],
   "source": [
    "enum_df.sample(5)"
   ]
  },
  {
   "cell_type": "markdown",
   "id": "fdd7821b-51aa-42af-88fb-01cb7621a4e0",
   "metadata": {},
   "source": [
    "# Do the TS run with the original selection algorithm"
   ]
  },
  {
   "cell_type": "code",
   "execution_count": 7,
   "id": "4eba17d0-647b-406e-8267-510292bda527",
   "metadata": {},
   "outputs": [],
   "source": [
    "parse_input_dict(quinazoline_dict)"
   ]
  },
  {
   "cell_type": "code",
   "execution_count": 8,
   "id": "cee21c4b-1761-4f2d-8489-99d1571ca53c",
   "metadata": {},
   "outputs": [
    {
     "data": {
      "application/vnd.jupyter.widget-view+json": {
       "model_id": "aa3e13b419c34441b4698b691e0952e7",
       "version_major": 2,
       "version_minor": 0
      },
      "text/plain": [
       "Warmup 1 of 3:   0%|          | 0/100 [00:00<?, ?it/s]"
      ]
     },
     "metadata": {},
     "output_type": "display_data"
    },
    {
     "data": {
      "application/vnd.jupyter.widget-view+json": {
       "model_id": "3fca4a434d2a41ccad1bbf53922ed499",
       "version_major": 2,
       "version_minor": 0
      },
      "text/plain": [
       "Warmup 2 of 3:   0%|          | 0/100 [00:00<?, ?it/s]"
      ]
     },
     "metadata": {},
     "output_type": "display_data"
    },
    {
     "data": {
      "application/vnd.jupyter.widget-view+json": {
       "model_id": "a46496f93488481493b54be295a8f8bc",
       "version_major": 2,
       "version_minor": 0
      },
      "text/plain": [
       "Warmup 3 of 3:   0%|          | 0/100 [00:00<?, ?it/s]"
      ]
     },
     "metadata": {},
     "output_type": "display_data"
    },
    {
     "data": {
      "application/vnd.jupyter.widget-view+json": {
       "model_id": "7abb51e693c24cf08bfdf88b29204508",
       "version_major": 2,
       "version_minor": 0
      },
      "text/plain": [
       "Cycle:   0%|          | 0/5000 [00:00<?, ?it/s]"
      ]
     },
     "metadata": {},
     "output_type": "display_data"
    },
    {
     "name": "stdout",
     "output_type": "stream",
     "text": [
      "         score                                             SMILES  \\\n",
      "0     1.000000  COc1cccc2c(=O)n([C@@H]3C[C@@H](O)[C@@H](O)C3)c...   \n",
      "2     0.847458  COc1cccc2c(=O)n([C@@H]3C[C@@H](O)[C@@H](O)C3)c...   \n",
      "1     0.847458  COc1cccc2c(=O)n([C@@H]3C[C@@H](O)[C@@H](O)C3)c...   \n",
      "17    0.779661  COc1cccc2c(=O)n([C@@H]3C[C@@H](O)[C@@H](O)C3)c...   \n",
      "8     0.779661  COc1cccc2c(=O)n([C@@H]3C[C@@H](O)[C@@H](O)C3)c...   \n",
      "1095  0.777778  COc1cccc2c(=O)n(C3CC(O)(C(=O)O)C3)c([C@@H](N)C...   \n",
      "1593  0.777778  COc1cccc2c(=O)n([C@@H]3CC[C@@H](O)[C@@H]3O)c([...   \n",
      "497   0.765625  COc1cccc2c(=O)n([C@@H]3CN(C)C[C@H]3O)c([C@@H](...   \n",
      "995   0.765625  COc1cccc2c(=O)n([C@H]3COC[C@@H]3O)c([C@@H](N)C...   \n",
      "799   0.765625  COc1cccc2c(=O)n([C@@H]3COC[C@H]3O)c([C@@H](N)C...   \n",
      "\n",
      "                          Name  \n",
      "0     389612_146501451_1531037  \n",
      "2     389612_146501451_1576365  \n",
      "1     389612_146501451_2384694  \n",
      "17    389612_146501451_1532556  \n",
      "8     389612_146501451_1529313  \n",
      "1095  389612_114118812_1531037  \n",
      "1593   389612_34071169_1531037  \n",
      "497    389612_34278490_1531037  \n",
      "995    389612_12957834_1531037  \n",
      "799    389612_12957829_1531037  \n"
     ]
    }
   ],
   "source": [
    "ts_df = run_ts(quinazoline_dict)"
   ]
  },
  {
   "cell_type": "code",
   "execution_count": 16,
   "id": "c20c3867-bb4e-4857-9237-6d198e6e7b06",
   "metadata": {},
   "outputs": [
    {
     "data": {
      "text/plain": [
       "count    5000.000000\n",
       "mean        0.430676\n",
       "std         0.065912\n",
       "min         0.321429\n",
       "25%         0.387500\n",
       "50%         0.417722\n",
       "75%         0.459459\n",
       "max         1.000000\n",
       "Name: score, dtype: float64"
      ]
     },
     "execution_count": 16,
     "metadata": {},
     "output_type": "execute_result"
    }
   ],
   "source": [
    "ts_df[\"score\"].describe()"
   ]
  },
  {
   "cell_type": "markdown",
   "id": "292971b4-4ee8-4d04-bd70-667d7c3e9cfc",
   "metadata": {},
   "source": [
    "# Do the TS run with Boltzmann reweighted selection"
   ]
  },
  {
   "cell_type": "code",
   "execution_count": 9,
   "id": "f76e9b10-e089-45f9-bd87-91ef08639996",
   "metadata": {},
   "outputs": [],
   "source": [
    "quinazoline_dict_boltzmann = copy.copy(quinazoline_dict)\n",
    "quinazoline_dict_boltzmann[\"ts_mode\"] = \"maximize_boltzmann\""
   ]
  },
  {
   "cell_type": "code",
   "execution_count": 13,
   "id": "18b607a6-450e-4e99-b1d4-d27a8019e028",
   "metadata": {},
   "outputs": [
    {
     "data": {
      "application/vnd.jupyter.widget-view+json": {
       "model_id": "146614122c034dfa82ac0d697bbe43f6",
       "version_major": 2,
       "version_minor": 0
      },
      "text/plain": [
       "Warmup 1 of 3:   0%|          | 0/100 [00:00<?, ?it/s]"
      ]
     },
     "metadata": {},
     "output_type": "display_data"
    },
    {
     "data": {
      "application/vnd.jupyter.widget-view+json": {
       "model_id": "0a0332de10984e249d41b4f0ef86b2bc",
       "version_major": 2,
       "version_minor": 0
      },
      "text/plain": [
       "Warmup 2 of 3:   0%|          | 0/100 [00:00<?, ?it/s]"
      ]
     },
     "metadata": {},
     "output_type": "display_data"
    },
    {
     "data": {
      "application/vnd.jupyter.widget-view+json": {
       "model_id": "6846fe9b87a54fc1bb0f1f94bc8ed55a",
       "version_major": 2,
       "version_minor": 0
      },
      "text/plain": [
       "Warmup 3 of 3:   0%|          | 0/100 [00:00<?, ?it/s]"
      ]
     },
     "metadata": {},
     "output_type": "display_data"
    },
    {
     "data": {
      "application/vnd.jupyter.widget-view+json": {
       "model_id": "8af0c7e69e2b43548c491481a9241d11",
       "version_major": 2,
       "version_minor": 0
      },
      "text/plain": [
       "Cycle:   0%|          | 0/5000 [00:00<?, ?it/s]"
      ]
     },
     "metadata": {},
     "output_type": "display_data"
    },
    {
     "name": "stdout",
     "output_type": "stream",
     "text": [
      "         score                                             SMILES  \\\n",
      "4368  0.138298  Nc1nnn(Cc2nc3nc(N)c(Cl)nc3c(=O)n2[C@@H](CCO)C(...   \n",
      "97    0.153846  O=C1CNC[C@@H](c2nc3nsnc3c(=O)n2C[C@@H](CO)C(=O...   \n",
      "4843  0.159091  O=c1c2[nH]ncc2nc([C@H]2NCC[C@@H]2O)n1[C@@H]1CO...   \n",
      "4945  0.160920  Cc1nsc2nc(C[C@@H](O)CN)n([C@@H](C(=O)O)[C@@H](...   \n",
      "4781  0.163043  Nc1ncc2c(=O)n(C(=O)[C@H]3CNC(=O)C3)c([C@H]3CNC...   \n",
      "4869  0.166667  O=C1NCCC[C@@H]1C(=O)n1c([C@H]2CNC[C@H]2O)nc2no...   \n",
      "3747  0.166667  CN1C[C@@H](O)[C@H](n2c([C@@H]3CNC(=O)CN3)nc3no...   \n",
      "3362  0.168421  NC[C@H](CO)c1nc2c(sc3nccnc32)c(=O)n1C(=O)c1cnc...   \n",
      "4189  0.168539              O=c1c2nccnc2nc(Cn2ncnn2)n1C1CN(CCO)C1   \n",
      "2386  0.168539  NCC(CN)c1nc2nc(=O)[nH]cc2c(=O)n1[C@@H](C(=O)O)...   \n",
      "\n",
      "                            Name  \n",
      "4368     21298040_895146_4294607  \n",
      "97    17327931_12502811_38540697  \n",
      "4843   26895189_12957829_4096639  \n",
      "4945      3349006_3875092_901811  \n",
      "4781   31613702_4301265_38540696  \n",
      "4869     967421_5382647_14507981  \n",
      "3747    967421_34278490_76576478  \n",
      "3362   12367501_8672865_12502813  \n",
      "4189    967253_82601602_31319659  \n",
      "2386   1699911_3995585_114812654  \n"
     ]
    }
   ],
   "source": [
    "ts_boltzmann_df = run_ts(quinazoline_dict_boltzmann)"
   ]
  },
  {
   "cell_type": "code",
   "execution_count": 15,
   "id": "b193de15-74b1-4427-8d5c-ff64909550da",
   "metadata": {},
   "outputs": [
    {
     "data": {
      "text/plain": [
       "count    5000.000000\n",
       "mean        0.420552\n",
       "std         0.098175\n",
       "min         0.138298\n",
       "25%         0.362500\n",
       "50%         0.421370\n",
       "75%         0.478873\n",
       "max         1.000000\n",
       "Name: score, dtype: float64"
      ]
     },
     "execution_count": 15,
     "metadata": {},
     "output_type": "execute_result"
    }
   ],
   "source": [
    "ts_boltzmann_df[\"score\"].describe()"
   ]
  },
  {
   "cell_type": "markdown",
   "id": "fd0c712e-a737-43db-ace7-ade3e4b802c8",
   "metadata": {},
   "source": [
    "# Compare the results"
   ]
  },
  {
   "cell_type": "code",
   "execution_count": 56,
   "id": "8f3f6237-3fdc-460e-b324-d0360c370258",
   "metadata": {},
   "outputs": [
    {
     "data": {
      "text/plain": [
       "Text(0.5, 1.0, 'Scores of top 200 compounds')"
      ]
     },
     "execution_count": 56,
     "metadata": {},
     "output_type": "execute_result"
    },
    {
     "data": {
      "image/png": "[encoded data removed]",
      "text/plain": [
       "<Figure size 640x480 with 1 Axes>"
      ]
     },
     "metadata": {},
     "output_type": "display_data"
    }
   ],
   "source": [
    "N = 200\n",
    "ts_compare = pd.concat([ts_df.sort_values(\"score\", ascending=False).head(N).assign(method=\"original\"),\n",
    "                        ts_boltzmann_df.sort_values(\"score\", ascending=False).head(N).assign(method=\"boltzmann\"),\n",
    "                        enum_df.sort_values(\"truth\", ascending=False).head(N).rename(columns={\"truth\": \"score\"}).assign(method=\"truth\"),\n",
    "                       ],\n",
    "                       ignore_index=True)\n",
    "ax = sns.stripplot(x=\"method\", y=\"score\", hue=\"method\", dodge=True, data=ts_compare)\n",
    "ax.set_title(f\"Scores of top {N} compounds\")"
   ]
  },
  {
   "cell_type": "markdown",
   "id": "46bde905-1489-482c-99e7-023a4b693e37",
   "metadata": {},
   "source": [
    "Build a merged dataframe with columns for whether each of the original and reweighted found this top molecule"
   ]
  },
  {
   "cell_type": "code",
   "execution_count": 47,
   "id": "7072e1e8-8ee5-4ce5-b7a8-a09dcd2ebaa9",
   "metadata": {},
   "outputs": [
    {
     "data": {
      "text/html": [
       "<div>\n",
       "<style scoped>\n",
       "    .dataframe tbody tr th:only-of-type {\n",
       "        vertical-align: middle;\n",
       "    }\n",
       "\n",
       "    .dataframe tbody tr th {\n",
       "        vertical-align: top;\n",
       "    }\n",
       "\n",
       "    .dataframe thead th {\n",
       "        text-align: right;\n",
       "    }\n",
       "</style>\n",
       "<table border=\"1\" class=\"dataframe\">\n",
       "  <thead>\n",
       "    <tr style=\"text-align: right;\">\n",
       "      <th></th>\n",
       "      <th>SMILES</th>\n",
       "      <th>Name</th>\n",
       "      <th>truth</th>\n",
       "      <th>original</th>\n",
       "      <th>boltzmann</th>\n",
       "    </tr>\n",
       "  </thead>\n",
       "  <tbody>\n",
       "    <tr>\n",
       "      <th>177</th>\n",
       "      <td>COc1cccc2c(=O)n(Cc3nc(CO)n[nH]3)c([C@@H](N)CNC...</td>\n",
       "      <td>389612_521398993_1531037</td>\n",
       "      <td>0.605634</td>\n",
       "      <td>True</td>\n",
       "      <td>True</td>\n",
       "    </tr>\n",
       "    <tr>\n",
       "      <th>278</th>\n",
       "      <td>COc1cccc2c(=O)n([C@@H]3CN(C)C[C@H]3O)c(CNC(N)=...</td>\n",
       "      <td>389612_34278490_1464311</td>\n",
       "      <td>0.579710</td>\n",
       "      <td>True</td>\n",
       "      <td>True</td>\n",
       "    </tr>\n",
       "    <tr>\n",
       "      <th>63</th>\n",
       "      <td>COc1cccc2c(=O)n(C3CN(CCO)C3)c([C@H](N)CNC(=N)N...</td>\n",
       "      <td>389612_82601602_1576365</td>\n",
       "      <td>0.652174</td>\n",
       "      <td>True</td>\n",
       "      <td>True</td>\n",
       "    </tr>\n",
       "    <tr>\n",
       "      <th>119</th>\n",
       "      <td>COc1cccc2c(=O)n([C@H]3CO[C@H]4[C@@H]3OC[C@@H]4...</td>\n",
       "      <td>389612_104600679_1576365</td>\n",
       "      <td>0.625000</td>\n",
       "      <td>True</td>\n",
       "      <td>True</td>\n",
       "    </tr>\n",
       "    <tr>\n",
       "      <th>11</th>\n",
       "      <td>COc1cccc2c(=O)n(C3CN(CCO)C3)c([C@@H](N)CNC(N)=...</td>\n",
       "      <td>389612_82601602_1531037</td>\n",
       "      <td>0.765625</td>\n",
       "      <td>True</td>\n",
       "      <td>True</td>\n",
       "    </tr>\n",
       "    <tr>\n",
       "      <th>325</th>\n",
       "      <td>COc1cccc2c(=O)n([C@@H]3CC[C@@H](O)[C@@H]3O)c([...</td>\n",
       "      <td>389612_34071169_52986906</td>\n",
       "      <td>0.573529</td>\n",
       "      <td>True</td>\n",
       "      <td>True</td>\n",
       "    </tr>\n",
       "    <tr>\n",
       "      <th>258</th>\n",
       "      <td>COc1cccc2c(=O)n(C3CN(CCO)C3)c([C@H](N)CN)nc12</td>\n",
       "      <td>389612_82601602_19363627</td>\n",
       "      <td>0.582090</td>\n",
       "      <td>True</td>\n",
       "      <td>True</td>\n",
       "    </tr>\n",
       "    <tr>\n",
       "      <th>197</th>\n",
       "      <td>COc1cccc2c(=O)n([C@@H]3C[C@@H](O)[C@@H](O)C3)c...</td>\n",
       "      <td>389612_146501451_4181821</td>\n",
       "      <td>0.600000</td>\n",
       "      <td>True</td>\n",
       "      <td>True</td>\n",
       "    </tr>\n",
       "    <tr>\n",
       "      <th>256</th>\n",
       "      <td>COc1cccc2c(=O)n(C3CN(CCO)C3)c([C@H](N)CCO)nc12</td>\n",
       "      <td>389612_82601602_1742215</td>\n",
       "      <td>0.582090</td>\n",
       "      <td>True</td>\n",
       "      <td>True</td>\n",
       "    </tr>\n",
       "    <tr>\n",
       "      <th>260</th>\n",
       "      <td>Cc1cnc2nc([C@@H](N)CNC(N)=O)n([C@@H]3C[C@@H](O...</td>\n",
       "      <td>26441149_146501451_1531037</td>\n",
       "      <td>0.582090</td>\n",
       "      <td>NaN</td>\n",
       "      <td>True</td>\n",
       "    </tr>\n",
       "  </tbody>\n",
       "</table>\n",
       "</div>"
      ],
      "text/plain": [
       "                                                SMILES  \\\n",
       "177  COc1cccc2c(=O)n(Cc3nc(CO)n[nH]3)c([C@@H](N)CNC...   \n",
       "278  COc1cccc2c(=O)n([C@@H]3CN(C)C[C@H]3O)c(CNC(N)=...   \n",
       "63   COc1cccc2c(=O)n(C3CN(CCO)C3)c([C@H](N)CNC(=N)N...   \n",
       "119  COc1cccc2c(=O)n([C@H]3CO[C@H]4[C@@H]3OC[C@@H]4...   \n",
       "11   COc1cccc2c(=O)n(C3CN(CCO)C3)c([C@@H](N)CNC(N)=...   \n",
       "325  COc1cccc2c(=O)n([C@@H]3CC[C@@H](O)[C@@H]3O)c([...   \n",
       "258      COc1cccc2c(=O)n(C3CN(CCO)C3)c([C@H](N)CN)nc12   \n",
       "197  COc1cccc2c(=O)n([C@@H]3C[C@@H](O)[C@@H](O)C3)c...   \n",
       "256     COc1cccc2c(=O)n(C3CN(CCO)C3)c([C@H](N)CCO)nc12   \n",
       "260  Cc1cnc2nc([C@@H](N)CNC(N)=O)n([C@@H]3C[C@@H](O...   \n",
       "\n",
       "                           Name     truth original boltzmann  \n",
       "177    389612_521398993_1531037  0.605634     True      True  \n",
       "278     389612_34278490_1464311  0.579710     True      True  \n",
       "63      389612_82601602_1576365  0.652174     True      True  \n",
       "119    389612_104600679_1576365  0.625000     True      True  \n",
       "11      389612_82601602_1531037  0.765625     True      True  \n",
       "325    389612_34071169_52986906  0.573529     True      True  \n",
       "258    389612_82601602_19363627  0.582090     True      True  \n",
       "197    389612_146501451_4181821  0.600000     True      True  \n",
       "256     389612_82601602_1742215  0.582090     True      True  \n",
       "260  26441149_146501451_1531037  0.582090      NaN      True  "
      ]
     },
     "execution_count": 47,
     "metadata": {},
     "output_type": "execute_result"
    }
   ],
   "source": [
    "N = 500\n",
    "df_top_enum = (\n",
    "    enum_df\n",
    "    .sort_values(\"truth\", ascending=False)\n",
    "    .head(N)\n",
    ")\n",
    "df_top_orig = (\n",
    "    ts_df\n",
    "    .sort_values(\"score\", ascending=False)\n",
    "    .head(N)\n",
    "    [[\"Name\"]]\n",
    "    .assign(original=True)\n",
    ")\n",
    "df_top_boltzmann = (\n",
    "    ts_boltzmann_df\n",
    "    .sort_values(\"score\", ascending=False)\n",
    "    .head(N)\n",
    "    [[\"Name\"]]\n",
    "    .assign(boltzmann=True)\n",
    ")\n",
    "df_top = pd.merge(pd.merge(df_top_enum, df_top_orig, how=\"left\", on=\"Name\"),\n",
    "                  df_top_boltzmann, how=\"left\", on=\"Name\")\n",
    "df_top.sample(10)\n"
   ]
  },
  {
   "cell_type": "code",
   "execution_count": 57,
   "id": "a38f0f40-8081-498c-87c9-4cb260d369cd",
   "metadata": {},
   "outputs": [
    {
     "data": {
      "image/png": "[encoded data removed]",
      "text/plain": [
       "<Figure size 640x480 with 1 Axes>"
      ]
     },
     "metadata": {},
     "output_type": "display_data"
    }
   ],
   "source": [
    "fig, ax = plt.subplots()\n",
    "top_ns = [10, 25, 50, 100, 200, 300, 400, 500]\n",
    "for col in [\"original\", \"boltzmann\"]:\n",
    "    ax.plot(top_ns, [df_top.head(n)[col].sum() / n for n in top_ns], label=col, marker=\"o\")\n",
    "ax.set_xlabel(\"top N\")\n",
    "ax.set_ylabel(\"fraction_found\")\n",
    "ax.axhline(1, color=\"k\", linestyle=\"--\", zorder=0)\n",
    "ax.set_title(\"quinazoline 100: Frac of top N found\")\n",
    "ax.legend()\n",
    "pass\n"
   ]
  },
  {
   "cell_type": "markdown",
   "id": "b49bdc94-3b41-4189-9e2e-358f122f9e61",
   "metadata": {},
   "source": [
    "Excellent. This is consistent with the publication that reweighting finds more of the top performing molecules."
   ]
  }
 ],
 "metadata": {
  "kernelspec": {
   "display_name": "ts_ext",
   "language": "python",
   "name": "ts_ext"
  },
  "language_info": {
   "codemirror_mode": {
    "name": "ipython",
    "version": 3
   },
   "file_extension": ".py",
   "mimetype": "text/x-python",
   "name": "python",
   "nbconvert_exporter": "python",
   "pygments_lexer": "ipython3",
   "version": "3.12.3"
  }
 },
 "nbformat": 4,
 "nbformat_minor": 5
}
