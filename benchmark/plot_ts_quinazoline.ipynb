{
 "cells": [
  {
   "cell_type": "markdown",
   "id": "c7b6b59f",
   "metadata": {},
   "source": [
    "Generate plots for \"Thompson Sampling - An Efficient Method for Searching Ultra-large Synthesis on Demand Databases\""
   ]
  },
  {
   "cell_type": "code",
   "execution_count": 1,
   "id": "22e7cde4",
   "metadata": {},
   "outputs": [],
   "source": [
    "%load_ext autoreload\n",
    "%autoreload 2"
   ]
  },
  {
   "cell_type": "code",
   "execution_count": 2,
   "id": "d3fb7fcd",
   "metadata": {},
   "outputs": [],
   "source": [
    "import pandas as pd\n",
    "from ts_plot_utils import compile_results, plot_stripplot2, plot_recovery_barplot2, plot_random_stripplot\n",
    "from ts_plot_utils import plot_random_recovery_barplot\n",
    "from ts_plot_utils import plot_iteration_stripplot2, plot_iteration_barplot, compile_iteration_data\n",
    "import matplotlib.pyplot as plt\n",
    "import seaborn as sns"
   ]
  },
  {
   "cell_type": "markdown",
   "source": [
    "### Figure 4"
   ],
   "metadata": {
    "collapsed": false,
    "pycharm": {
     "name": "#%% md\n"
    }
   }
  },
  {
   "cell_type": "code",
   "execution_count": null,
   "outputs": [],
   "source": [
    "iteration_combo_df = compile_iteration_data(\"benchmark_data/ts_warmup_quinazoline*_iterations_*.csv\",\"benchmark_data/quinazoline_exhaustive.csv\")\n",
    "iteration_combo_df.cycle = iteration_combo_df.iterations"
   ],
   "metadata": {
    "collapsed": false,
    "pycharm": {
     "name": "#%%\n"
    }
   }
  },
  {
   "cell_type": "code",
   "execution_count": null,
   "outputs": [],
   "source": [
    "sns.set_style('white')\n",
    "sns.set_context('talk')\n",
    "figure, axes = plt.subplots(2,1,figsize=(20,10),gridspec_kw={'height_ratios': [2, 1]})\n",
    "plot_iteration_stripplot2(iteration_combo_df, include_ref=True,ax=axes[0])\n",
    "iteration_match_df = plot_iteration_barplot(iteration_combo_df,ax=axes[1],xlabel=\"Iterations\")\n",
    "plt.tight_layout()"
   ],
   "metadata": {
    "collapsed": false,
    "pycharm": {
     "name": "#%%\n"
    }
   }
  },
  {
   "cell_type": "markdown",
   "source": [
    "### Figure 5"
   ],
   "metadata": {
    "collapsed": false,
    "pycharm": {
     "name": "#%% md\n"
    }
   }
  },
  {
   "cell_type": "code",
   "execution_count": null,
   "outputs": [],
   "source": [
    "combo_df = compile_results(\"benchmark_data/ts_replicate_quinazoline*.csv\",\"benchmark_data/quinazoline_exhaustive.csv\")"
   ],
   "metadata": {
    "collapsed": false,
    "pycharm": {
     "name": "#%%\n"
    }
   }
  },
  {
   "cell_type": "code",
   "execution_count": null,
   "outputs": [],
   "source": [
    "combo_df.cycle = pd.Categorical(combo_df.cycle,\n",
    "                               categories=[\"1\",\"2\",\"3\",\"4\",\"5\",\"6\",\"7\",\"8\",\"9\",\"10\",\"concat\",\"ref\"],ordered=True)"
   ],
   "metadata": {
    "collapsed": false,
    "pycharm": {
     "name": "#%%\n"
    }
   }
  },
  {
   "cell_type": "code",
   "execution_count": null,
   "outputs": [],
   "source": [
    "sns.set_style('white')\n",
    "sns.set_context('talk')\n",
    "figure, axes = plt.subplots(2,1,figsize=(20,10),gridspec_kw={'height_ratios': [2, 1]})\n",
    "plot_stripplot2(combo_df, include_ref=True,ax=axes[0])\n",
    "tmp_df = plot_recovery_barplot2(combo_df,ax=axes[1],xlabel=\"Replicate\")\n",
    "plt.tight_layout()"
   ],
   "metadata": {
    "collapsed": false,
    "pycharm": {
     "name": "#%%\n"
    }
   }
  },
  {
   "cell_type": "markdown",
   "source": [
    "### Figure 6"
   ],
   "metadata": {
    "collapsed": false,
    "pycharm": {
     "name": "#%% md\n"
    }
   }
  },
  {
   "cell_type": "code",
   "execution_count": null,
   "id": "f0436ce7",
   "metadata": {},
   "outputs": [],
   "source": []
  }
 ],
 "metadata": {
  "kernelspec": {
   "display_name": "Python 3 (ipykernel)",
   "language": "python",
   "name": "python3"
  },
  "language_info": {
   "codemirror_mode": {
    "name": "ipython",
    "version": 3
   },
   "file_extension": ".py",
   "mimetype": "text/x-python",
   "name": "python",
   "nbconvert_exporter": "python",
   "pygments_lexer": "ipython3",
   "version": "3.11.3"
  }
 },
 "nbformat": 4,
 "nbformat_minor": 5
}