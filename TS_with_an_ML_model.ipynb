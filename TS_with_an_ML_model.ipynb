{
 "cells": [
  {
   "cell_type": "markdown",
   "id": "55dc47e330e0023c",
   "metadata": {},
   "source": [
    "### Introduction\n",
    "In this notebook we demonstrate how to use Thompson Sampling with a machine learning (ML) model as an objective.  The notebook has two parts. \n",
    "1. Build a classification model for the MAPK1 dataset from [LIT-PCBA](https://pubs.acs.org/doi/10.1021/acs.jcim.0c00155) and save it to disk.\n",
    "2. Use the ML model as an objective in Thompson Sampling  \n",
    "  \n",
    "Note that you don't have to run Part 1 to run Part 2.  Part 2 uses a stored model, which is provided in the repository."
   ]
  },
  {
   "cell_type": "code",
   "execution_count": 6,
   "id": "0c3bb1d6",
   "metadata": {
    "ExecuteTime": {
     "end_time": "2024-04-06T21:24:23.270919Z",
     "start_time": "2024-04-06T21:24:23.253639Z"
    }
   },
   "outputs": [],
   "source": [
    "import pandas as pd\n",
    "import useful_rdkit_utils as uru\n",
    "from lightgbm import LGBMClassifier\n",
    "from sklearn.model_selection import train_test_split\n",
    "from sklearn.metrics import roc_auc_score\n",
    "import numpy as np\n",
    "import joblib"
   ]
  },
  {
   "cell_type": "markdown",
   "id": "1fa35bd4",
   "metadata": {},
   "source": [
    "### Part 1: Build an ML model for the MAPK1 dataset\n",
    "Read the data"
   ]
  },
  {
   "cell_type": "code",
   "execution_count": 7,
   "id": "841d2919",
   "metadata": {
    "ExecuteTime": {
     "end_time": "2024-04-06T21:24:28.264580Z",
     "start_time": "2024-04-06T21:24:28.212401Z"
    }
   },
   "outputs": [],
   "source": [
    "df = pd.read_csv(\"data/MAPK1.csv\")"
   ]
  },
  {
   "cell_type": "markdown",
   "id": "07407460",
   "metadata": {},
   "source": [
    "Add a fingerprint to the dataframe"
   ]
  },
  {
   "cell_type": "code",
   "execution_count": 8,
   "id": "1780b438",
   "metadata": {
    "ExecuteTime": {
     "end_time": "2024-04-06T21:26:18.638481Z",
     "start_time": "2024-04-06T21:26:11.423906Z"
    }
   },
   "outputs": [],
   "source": [
    "df['fp'] = df.SMILES.apply(uru.smi2numpy_fp)"
   ]
  },
  {
   "cell_type": "markdown",
   "id": "d2c00c63",
   "metadata": {},
   "source": [
    "Split into training and test sets"
   ]
  },
  {
   "cell_type": "code",
   "execution_count": 9,
   "id": "af9717e1",
   "metadata": {
    "ExecuteTime": {
     "end_time": "2024-04-06T21:26:22.703039Z",
     "start_time": "2024-04-06T21:26:22.691130Z"
    }
   },
   "outputs": [],
   "source": [
    "train, test = train_test_split(df)"
   ]
  },
  {
   "cell_type": "markdown",
   "id": "f1e1acd6",
   "metadata": {},
   "source": [
    "Instantiate a classifier"
   ]
  },
  {
   "cell_type": "code",
   "execution_count": 10,
   "id": "f1ff88d8",
   "metadata": {
    "ExecuteTime": {
     "end_time": "2024-04-06T21:26:25.905534Z",
     "start_time": "2024-04-06T21:26:25.902496Z"
    }
   },
   "outputs": [],
   "source": [
    "cls = LGBMClassifier()"
   ]
  },
  {
   "cell_type": "markdown",
   "id": "13ad7764",
   "metadata": {},
   "source": [
    "Train the classifier"
   ]
  },
  {
   "cell_type": "code",
   "execution_count": 11,
   "id": "5b2b235f",
   "metadata": {
    "ExecuteTime": {
     "end_time": "2024-04-06T21:27:50.960916Z",
     "start_time": "2024-04-06T21:26:29.578080Z"
    }
   },
   "outputs": [
    {
     "data": {
      "text/html": [
       "<style>#sk-container-id-1 {color: black;}#sk-container-id-1 pre{padding: 0;}#sk-container-id-1 div.sk-toggleable {background-color: white;}#sk-container-id-1 label.sk-toggleable__label {cursor: pointer;display: block;width: 100%;margin-bottom: 0;padding: 0.3em;box-sizing: border-box;text-align: center;}#sk-container-id-1 label.sk-toggleable__label-arrow:before {content: \"▸\";float: left;margin-right: 0.25em;color: #696969;}#sk-container-id-1 label.sk-toggleable__label-arrow:hover:before {color: black;}#sk-container-id-1 div.sk-estimator:hover label.sk-toggleable__label-arrow:before {color: black;}#sk-container-id-1 div.sk-toggleable__content {max-height: 0;max-width: 0;overflow: hidden;text-align: left;background-color: #f0f8ff;}#sk-container-id-1 div.sk-toggleable__content pre {margin: 0.2em;color: black;border-radius: 0.25em;background-color: #f0f8ff;}#sk-container-id-1 input.sk-toggleable__control:checked~div.sk-toggleable__content {max-height: 200px;max-width: 100%;overflow: auto;}#sk-container-id-1 input.sk-toggleable__control:checked~label.sk-toggleable__label-arrow:before {content: \"▾\";}#sk-container-id-1 div.sk-estimator input.sk-toggleable__control:checked~label.sk-toggleable__label {background-color: #d4ebff;}#sk-container-id-1 div.sk-label input.sk-toggleable__control:checked~label.sk-toggleable__label {background-color: #d4ebff;}#sk-container-id-1 input.sk-hidden--visually {border: 0;clip: rect(1px 1px 1px 1px);clip: rect(1px, 1px, 1px, 1px);height: 1px;margin: -1px;overflow: hidden;padding: 0;position: absolute;width: 1px;}#sk-container-id-1 div.sk-estimator {font-family: monospace;background-color: #f0f8ff;border: 1px dotted black;border-radius: 0.25em;box-sizing: border-box;margin-bottom: 0.5em;}#sk-container-id-1 div.sk-estimator:hover {background-color: #d4ebff;}#sk-container-id-1 div.sk-parallel-item::after {content: \"\";width: 100%;border-bottom: 1px solid gray;flex-grow: 1;}#sk-container-id-1 div.sk-label:hover label.sk-toggleable__label {background-color: #d4ebff;}#sk-container-id-1 div.sk-serial::before {content: \"\";position: absolute;border-left: 1px solid gray;box-sizing: border-box;top: 0;bottom: 0;left: 50%;z-index: 0;}#sk-container-id-1 div.sk-serial {display: flex;flex-direction: column;align-items: center;background-color: white;padding-right: 0.2em;padding-left: 0.2em;position: relative;}#sk-container-id-1 div.sk-item {position: relative;z-index: 1;}#sk-container-id-1 div.sk-parallel {display: flex;align-items: stretch;justify-content: center;background-color: white;position: relative;}#sk-container-id-1 div.sk-item::before, #sk-container-id-1 div.sk-parallel-item::before {content: \"\";position: absolute;border-left: 1px solid gray;box-sizing: border-box;top: 0;bottom: 0;left: 50%;z-index: -1;}#sk-container-id-1 div.sk-parallel-item {display: flex;flex-direction: column;z-index: 1;position: relative;background-color: white;}#sk-container-id-1 div.sk-parallel-item:first-child::after {align-self: flex-end;width: 50%;}#sk-container-id-1 div.sk-parallel-item:last-child::after {align-self: flex-start;width: 50%;}#sk-container-id-1 div.sk-parallel-item:only-child::after {width: 0;}#sk-container-id-1 div.sk-dashed-wrapped {border: 1px dashed gray;margin: 0 0.4em 0.5em 0.4em;box-sizing: border-box;padding-bottom: 0.4em;background-color: white;}#sk-container-id-1 div.sk-label label {font-family: monospace;font-weight: bold;display: inline-block;line-height: 1.2em;}#sk-container-id-1 div.sk-label-container {text-align: center;}#sk-container-id-1 div.sk-container {/* jupyter's `normalize.less` sets `[hidden] { display: none; }` but bootstrap.min.css set `[hidden] { display: none !important; }` so we also need the `!important` here to be able to override the default hidden behavior on the sphinx rendered scikit-learn.org. See: https://github.com/scikit-learn/scikit-learn/issues/21755 */display: inline-block !important;position: relative;}#sk-container-id-1 div.sk-text-repr-fallback {display: none;}</style><div id=\"sk-container-id-1\" class=\"sk-top-container\"><div class=\"sk-text-repr-fallback\"><pre>LGBMClassifier()</pre><b>In a Jupyter environment, please rerun this cell to show the HTML representation or trust the notebook. <br />On GitHub, the HTML representation is unable to render, please try loading this page with nbviewer.org.</b></div><div class=\"sk-container\" hidden><div class=\"sk-item\"><div class=\"sk-estimator sk-toggleable\"><input class=\"sk-toggleable__control sk-hidden--visually\" id=\"sk-estimator-id-1\" type=\"checkbox\" checked><label for=\"sk-estimator-id-1\" class=\"sk-toggleable__label sk-toggleable__label-arrow\">LGBMClassifier</label><div class=\"sk-toggleable__content\"><pre>LGBMClassifier()</pre></div></div></div></div></div>"
      ],
      "text/plain": [
       "LGBMClassifier()"
      ]
     },
     "execution_count": 11,
     "metadata": {},
     "output_type": "execute_result"
    }
   ],
   "source": [
    "cls.fit(np.stack(train.fp),train.active)"
   ]
  },
  {
   "cell_type": "markdown",
   "id": "d52616b9",
   "metadata": {},
   "source": [
    "Predict the test set"
   ]
  },
  {
   "cell_type": "code",
   "execution_count": null,
   "id": "99600e56",
   "metadata": {
    "ExecuteTime": {
     "end_time": "2024-04-06T21:11:04.209758Z",
     "start_time": "2024-04-06T21:11:04.209699Z"
    }
   },
   "outputs": [],
   "source": [
    "prob = cls.predict_proba(np.stack(test.fp))"
   ]
  },
  {
   "cell_type": "markdown",
   "id": "7fe2014a",
   "metadata": {},
   "source": [
    "Calculate the ROC AUC"
   ]
  },
  {
   "cell_type": "code",
   "execution_count": null,
   "id": "7bfe4d30",
   "metadata": {},
   "outputs": [],
   "source": [
    "roc_auc_score(test.active, prob[:,1])"
   ]
  },
  {
   "cell_type": "markdown",
   "id": "43ad6ae8",
   "metadata": {},
   "source": [
    "Save the model"
   ]
  },
  {
   "cell_type": "code",
   "execution_count": null,
   "id": "2bdb97f8",
   "metadata": {
    "ExecuteTime": {
     "end_time": "2024-04-06T21:11:04.211227Z",
     "start_time": "2024-04-06T21:11:04.211166Z"
    }
   },
   "outputs": [],
   "source": [
    "joblib.dump(cls, 'mapk1_modl.pkl')"
   ]
  },
  {
   "cell_type": "markdown",
   "id": "8f383806",
   "metadata": {},
   "source": [
    "Read the model from disk"
   ]
  },
  {
   "cell_type": "code",
   "execution_count": null,
   "id": "b6dc9100",
   "metadata": {
    "ExecuteTime": {
     "start_time": "2024-04-06T21:11:04.212312Z"
    }
   },
   "outputs": [],
   "source": [
    "cls_pickle = joblib.load('mapk1_modl.pkl')"
   ]
  },
  {
   "cell_type": "markdown",
   "id": "8106d983",
   "metadata": {},
   "source": [
    "Predict based on the saved model"
   ]
  },
  {
   "cell_type": "code",
   "execution_count": null,
   "id": "6477e0f3",
   "metadata": {
    "ExecuteTime": {
     "end_time": "2024-04-06T21:11:04.213030Z",
     "start_time": "2024-04-06T21:11:04.212959Z"
    }
   },
   "outputs": [],
   "source": [
    "pred_pickle = cls_pickle.predict_proba(np.stack(test.fp))"
   ]
  },
  {
   "cell_type": "markdown",
   "id": "6c137a5e",
   "metadata": {},
   "source": [
    "Calculate the ROC AUC based on the saved model"
   ]
  },
  {
   "cell_type": "code",
   "execution_count": null,
   "id": "ddb4eebf",
   "metadata": {},
   "outputs": [],
   "source": [
    "roc_auc_score(test.active, pred_pickle[:,1])"
   ]
  },
  {
   "cell_type": "markdown",
   "id": "cb538b49f2914c8d",
   "metadata": {},
   "source": [
    "### Part 2: Use the ML model as an objective in Thompson Sampling"
   ]
  },
  {
   "cell_type": "code",
   "execution_count": 1,
   "id": "9352c42b",
   "metadata": {
    "ExecuteTime": {
     "end_time": "2024-04-06T21:11:17.382991Z",
     "start_time": "2024-04-06T21:11:17.111078Z"
    }
   },
   "outputs": [],
   "source": [
    "from ts_main import read_input, run_ts, parse_input_dict"
   ]
  },
  {
   "cell_type": "markdown",
   "id": "499eebc1d2d9ca3e",
   "metadata": {},
   "source": [
    "Read and process the input JSON file "
   ]
  },
  {
   "cell_type": "code",
   "execution_count": 15,
   "id": "65077e4b",
   "metadata": {
    "ExecuteTime": {
     "end_time": "2024-04-06T21:37:54.527905Z",
     "start_time": "2024-04-06T21:37:54.518337Z"
    }
   },
   "outputs": [],
   "source": [
    "ts_input_dict = read_input('examples/quinazoline_classification_model.json')"
   ]
  },
  {
   "cell_type": "markdown",
   "id": "581d2316af5dcf75",
   "metadata": {},
   "source": [
    "Run Thompson Sampling"
   ]
  },
  {
   "cell_type": "code",
   "execution_count": 16,
   "id": "68c2ac201a079e1f",
   "metadata": {
    "ExecuteTime": {
     "end_time": "2024-04-06T21:38:54.220087Z",
     "start_time": "2024-04-06T21:37:57.399387Z"
    }
   },
   "outputs": [
    {
     "data": {
      "application/vnd.jupyter.widget-view+json": {
       "model_id": "23a757506465448496c6b086bfeb0e0e",
       "version_major": 2,
       "version_minor": 0
      },
      "text/plain": [
       "Warmup 1 of 3:   0%|          | 0/376 [00:00<?, ?it/s]"
      ]
     },
     "metadata": {},
     "output_type": "display_data"
    },
    {
     "data": {
      "application/vnd.jupyter.widget-view+json": {
       "model_id": "a0d587ad46b5450087ad3e764172a30f",
       "version_major": 2,
       "version_minor": 0
      },
      "text/plain": [
       "Warmup 2 of 3:   0%|          | 0/500 [00:00<?, ?it/s]"
      ]
     },
     "metadata": {},
     "output_type": "display_data"
    },
    {
     "data": {
      "application/vnd.jupyter.widget-view+json": {
       "model_id": "6bff57ec678540cdbf9a1b7f2316d58e",
       "version_major": 2,
       "version_minor": 0
      },
      "text/plain": [
       "Warmup 3 of 3:   0%|          | 0/500 [00:00<?, ?it/s]"
      ]
     },
     "metadata": {},
     "output_type": "display_data"
    },
    {
     "data": {
      "application/vnd.jupyter.widget-view+json": {
       "model_id": "fa7f7e1001d34bf7872632c4086e6d18",
       "version_major": 2,
       "version_minor": 0
      },
      "text/plain": [
       "Cycle:   0%|          | 0/10000 [00:00<?, ?it/s]"
      ]
     },
     "metadata": {},
     "output_type": "display_data"
    },
    {
     "name": "stdout",
     "output_type": "stream",
     "text": [
      "         score                                             SMILES  \\\n",
      "4404  0.860390  CNS(=O)(=O)CCn1c([C@@H]2CN=C(N)NC2)nc2nc3ccccc...   \n",
      "20    0.763437  NC1=NC[C@@H](c2nc3nc4ccccc4cc3c(=O)n2-c2ncn(CC...   \n",
      "8212  0.733015  NC1=N[C@@H](c2nc3nc4ccccc4cc3c(=O)n2C23CNC(C(=...   \n",
      "8213  0.733015  NC1=N[C@H](c2nc3nc4ccccc4cc3c(=O)n2C23CNC(C(=O...   \n",
      "25    0.711902  NC1=N[C@H](c2nc3nc4ccccc4cc3c(=O)n2-c2ncn(CC(=...   \n",
      "24    0.711902  NC1=N[C@@H](c2nc3nc4ccccc4cc3c(=O)n2-c2ncn(CC(...   \n",
      "8211  0.709294  NC1=NC[C@@H](c2nc3nc4ccccc4cc3c(=O)n2C23CNC(C(...   \n",
      "4405  0.684755  CNS(=O)(=O)CCn1c([C@@H]2N=C(N)NN2)nc2nc3ccccc3...   \n",
      "4406  0.684755  CNS(=O)(=O)CCn1c([C@H]2N=C(N)NN2)nc2nc3ccccc3c...   \n",
      "8214  0.652122  CN1C(=O)CC[C@@H]1c1nc2nc3ccccc3cc2c(=O)n1C12CN...   \n",
      "\n",
      "                            Name  \n",
      "4404   1723442_12416971_38415755  \n",
      "20      1723442_2537440_38415755  \n",
      "8212   1723442_575421981_6862752  \n",
      "8213  1723442_575421981_16137394  \n",
      "25      1723442_2537440_16137394  \n",
      "24       1723442_2537440_6862752  \n",
      "8211  1723442_575421981_38415755  \n",
      "4405    1723442_12416971_6862752  \n",
      "4406   1723442_12416971_16137394  \n",
      "8214  1723442_575421981_39650537  \n"
     ]
    }
   ],
   "source": [
    "score_df = run_ts(ts_input_dict)"
   ]
  },
  {
   "cell_type": "code",
   "execution_count": 14,
   "id": "4acdc0ec7f4c31fb",
   "metadata": {
    "ExecuteTime": {
     "end_time": "2024-04-06T21:30:45.721507Z",
     "start_time": "2024-04-06T21:30:45.714030Z"
    }
   },
   "outputs": [
    {
     "data": {
      "text/html": [
       "<div>\n",
       "<style scoped>\n",
       "    .dataframe tbody tr th:only-of-type {\n",
       "        vertical-align: middle;\n",
       "    }\n",
       "\n",
       "    .dataframe tbody tr th {\n",
       "        vertical-align: top;\n",
       "    }\n",
       "\n",
       "    .dataframe thead th {\n",
       "        text-align: right;\n",
       "    }\n",
       "</style>\n",
       "<table border=\"1\" class=\"dataframe\">\n",
       "  <thead>\n",
       "    <tr style=\"text-align: right;\">\n",
       "      <th></th>\n",
       "      <th>score</th>\n",
       "      <th>SMILES</th>\n",
       "      <th>Name</th>\n",
       "    </tr>\n",
       "  </thead>\n",
       "  <tbody>\n",
       "    <tr>\n",
       "      <th>7360</th>\n",
       "      <td>0.787410</td>\n",
       "      <td>O=C(NC1NCCN1)n1c(-c2n[nH]c(O)n2)nc2c(cnc3ccccc...</td>\n",
       "      <td>14982158_38864359_4343380</td>\n",
       "    </tr>\n",
       "    <tr>\n",
       "      <th>7357</th>\n",
       "      <td>0.785511</td>\n",
       "      <td>O=C(NC1NCCN1)n1c(-c2nn[nH]n2)nc2c(cnc3ccccc32)...</td>\n",
       "      <td>14982158_38864359_6505186</td>\n",
       "    </tr>\n",
       "    <tr>\n",
       "      <th>7359</th>\n",
       "      <td>0.751079</td>\n",
       "      <td>Nc1cnc(-c2nc3c(cnc4ccccc43)c(=O)n2C(=O)NC2NCCN...</td>\n",
       "      <td>14982158_38864359_26896534</td>\n",
       "    </tr>\n",
       "    <tr>\n",
       "      <th>4005</th>\n",
       "      <td>0.746542</td>\n",
       "      <td>O=C1CCC(C(=O)n2c(-c3n[nH]c(O)n3)nc3c(cnc4ccccc...</td>\n",
       "      <td>14982158_32016232_4343380</td>\n",
       "    </tr>\n",
       "    <tr>\n",
       "      <th>4003</th>\n",
       "      <td>0.744397</td>\n",
       "      <td>O=C1CCC(C(=O)n2c(-c3nn[nH]n3)nc3c(cnc4ccccc43)...</td>\n",
       "      <td>14982158_32016232_6505186</td>\n",
       "    </tr>\n",
       "    <tr>\n",
       "      <th>4004</th>\n",
       "      <td>0.705836</td>\n",
       "      <td>Nc1cnc(-c2nc3c(cnc4ccccc43)c(=O)n2C(=O)C2=NNC(...</td>\n",
       "      <td>14982158_32016232_26896534</td>\n",
       "    </tr>\n",
       "    <tr>\n",
       "      <th>2478</th>\n",
       "      <td>0.661220</td>\n",
       "      <td>O=C(n1c(-c2ncc(O)cn2)nc2c(cnc3ccccc32)c1=O)[C@...</td>\n",
       "      <td>14982158_96034624_39052256</td>\n",
       "    </tr>\n",
       "    <tr>\n",
       "      <th>5065</th>\n",
       "      <td>0.661220</td>\n",
       "      <td>O=C(n1c(-c2ncc(O)cn2)nc2c(cnc3ccccc32)c1=O)C1(...</td>\n",
       "      <td>14982158_140060494_39052256</td>\n",
       "    </tr>\n",
       "    <tr>\n",
       "      <th>4548</th>\n",
       "      <td>0.661220</td>\n",
       "      <td>O=C(n1c(-c2ncc(O)cn2)nc2c(cnc3ccccc32)c1=O)[C@...</td>\n",
       "      <td>14982158_72417683_39052256</td>\n",
       "    </tr>\n",
       "    <tr>\n",
       "      <th>332</th>\n",
       "      <td>0.661220</td>\n",
       "      <td>O=C(n1c(-c2ncc(O)cn2)nc2c(cnc3ccccc32)c1=O)[C@...</td>\n",
       "      <td>14982158_96034625_39052256</td>\n",
       "    </tr>\n",
       "  </tbody>\n",
       "</table>\n",
       "</div>"
      ],
      "text/plain": [
       "         score                                             SMILES  \\\n",
       "7360  0.787410  O=C(NC1NCCN1)n1c(-c2n[nH]c(O)n2)nc2c(cnc3ccccc...   \n",
       "7357  0.785511  O=C(NC1NCCN1)n1c(-c2nn[nH]n2)nc2c(cnc3ccccc32)...   \n",
       "7359  0.751079  Nc1cnc(-c2nc3c(cnc4ccccc43)c(=O)n2C(=O)NC2NCCN...   \n",
       "4005  0.746542  O=C1CCC(C(=O)n2c(-c3n[nH]c(O)n3)nc3c(cnc4ccccc...   \n",
       "4003  0.744397  O=C1CCC(C(=O)n2c(-c3nn[nH]n3)nc3c(cnc4ccccc43)...   \n",
       "4004  0.705836  Nc1cnc(-c2nc3c(cnc4ccccc43)c(=O)n2C(=O)C2=NNC(...   \n",
       "2478  0.661220  O=C(n1c(-c2ncc(O)cn2)nc2c(cnc3ccccc32)c1=O)[C@...   \n",
       "5065  0.661220  O=C(n1c(-c2ncc(O)cn2)nc2c(cnc3ccccc32)c1=O)C1(...   \n",
       "4548  0.661220  O=C(n1c(-c2ncc(O)cn2)nc2c(cnc3ccccc32)c1=O)[C@...   \n",
       "332   0.661220  O=C(n1c(-c2ncc(O)cn2)nc2c(cnc3ccccc32)c1=O)[C@...   \n",
       "\n",
       "                             Name  \n",
       "7360    14982158_38864359_4343380  \n",
       "7357    14982158_38864359_6505186  \n",
       "7359   14982158_38864359_26896534  \n",
       "4005    14982158_32016232_4343380  \n",
       "4003    14982158_32016232_6505186  \n",
       "4004   14982158_32016232_26896534  \n",
       "2478   14982158_96034624_39052256  \n",
       "5065  14982158_140060494_39052256  \n",
       "4548   14982158_72417683_39052256  \n",
       "332    14982158_96034625_39052256  "
      ]
     },
     "execution_count": 14,
     "metadata": {},
     "output_type": "execute_result"
    }
   ],
   "source": [
    "score_df.sort_values(\"score\", ascending=False).head(10)"
   ]
  },
  {
   "cell_type": "code",
   "execution_count": null,
   "id": "575551f032b5a3b2",
   "metadata": {},
   "outputs": [],
   "source": []
  }
 ],
 "metadata": {
  "kernelspec": {
   "display_name": "Python 3 (ipykernel)",
   "language": "python",
   "name": "python3"
  },
  "language_info": {
   "codemirror_mode": {
    "name": "ipython",
    "version": 3
   },
   "file_extension": ".py",
   "mimetype": "text/x-python",
   "name": "python",
   "nbconvert_exporter": "python",
   "pygments_lexer": "ipython3",
   "version": "3.11.3"
  }
 },
 "nbformat": 4,
 "nbformat_minor": 5
}
